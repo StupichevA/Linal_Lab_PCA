{
  "nbformat": 4,
  "nbformat_minor": 0,
  "metadata": {
    "colab": {
      "provenance": [],
      "authorship_tag": "ABX9TyMalHG8ztL76Bc7oa+WY5/+",
      "include_colab_link": true
    },
    "kernelspec": {
      "name": "python3",
      "display_name": "Python 3"
    },
    "language_info": {
      "name": "python"
    }
  },
  "cells": [
    {
      "cell_type": "markdown",
      "metadata": {
        "id": "view-in-github",
        "colab_type": "text"
      },
      "source": [
        "<a href=\"https://colab.research.google.com/github/StupichevA/Linal_Lab_PCA/blob/main/Lab.ipynb\" target=\"_parent\"><img src=\"https://colab.research.google.com/assets/colab-badge.svg\" alt=\"Open In Colab\"/></a>"
      ]
    },
    {
      "cell_type": "code",
      "execution_count": null,
      "metadata": {
        "colab": {
          "base_uri": "https://localhost:8080/"
        },
        "id": "2wQqgx0Auozj",
        "outputId": "70cbc485-8bf7-41e7-b988-7dbe55e35b2e"
      },
      "outputs": [
        {
          "output_type": "stream",
          "name": "stdout",
          "text": [
            "Матрица 1:\n",
            "1 2 3\n",
            "4 5 6\n",
            "\n",
            "Матрица 2:\n",
            "6 5 4\n",
            "3 2 1\n",
            "\n",
            "Матрица 3:\n",
            "1 2\n",
            "3 4\n",
            "5 6\n",
            "\n",
            "Сложение матриц 1 и 2:\n",
            "7 7 7\n",
            "7 7 7\n",
            "\n",
            "Умножение матрицы 1 на 2:\n",
            "2 4 6\n",
            "8 10 12\n",
            "\n",
            "Умножение матриц 1 и 3:\n",
            "22 28\n",
            "49 64\n",
            "\n",
            "Второй столбец матрицы 1:\n",
            "[2, 5]\n",
            "\n",
            "det 3.0\n"
          ]
        }
      ],
      "source": [
        "class Matrix:\n",
        "    def __init__(self, rows, cols, data=None):\n",
        "        \"\"\"\n",
        "        Инициализация матрицы\n",
        "\n",
        "        :param rows: количество строк\n",
        "        :param cols: количество столбцов\n",
        "        :param data: двумерный список элементов (по умолчанию нулевая матрица)\n",
        "        \"\"\"\n",
        "        self.rows = rows\n",
        "        self.cols = cols\n",
        "\n",
        "        if data is not None:\n",
        "            # Проверяем, что данные соответствуют указанным размерам\n",
        "            if len(data) != rows or any(len(row) != cols for row in data):\n",
        "                raise ValueError(\"Размеры данных не соответствуют указанным rows и cols\")\n",
        "            self.data = data\n",
        "        else:\n",
        "            # Создаем нулевую матрицу\n",
        "            self.data = [[0 for _ in range(cols)] for _ in range(rows)]\n",
        "\n",
        "    def sum(self, other):\n",
        "        \"\"\"Сложение матриц\"\"\"\n",
        "        if self.rows != other.rows or self.cols != other.cols:\n",
        "            raise ValueError(\"Матрицы должны быть одного размера для сложения\")\n",
        "\n",
        "        result = Matrix(self.rows, self.cols)\n",
        "        for i in range(self.rows):\n",
        "            for j in range(self.cols):\n",
        "                result.data[i][j] = self.data[i][j] + other.data[i][j]\n",
        "        return result\n",
        "\n",
        "    def increase(self, scalar):\n",
        "        \"\"\"Умножение матрицы на скаляр\"\"\"\n",
        "        if not isinstance(scalar, (int, float)):\n",
        "            raise ValueError(\"Можно умножать только на скаляр (число)\")\n",
        "\n",
        "        result = Matrix(self.rows, self.cols)\n",
        "        for i in range(self.rows):\n",
        "            for j in range(self.cols):\n",
        "                result.data[i][j] = self.data[i][j] * scalar\n",
        "        return result\n",
        "\n",
        "    def mult(self, other):\n",
        "        \"\"\"Умножение матриц (используем оператор @)\"\"\"\n",
        "        if self.cols != other.rows:\n",
        "            raise ValueError(\"Количество столбцов первой матрицы должно равняться количеству строк второй\")\n",
        "\n",
        "        result = Matrix(self.rows, other.cols)\n",
        "        for i in range(self.rows):\n",
        "            for j in range(other.cols):\n",
        "                sum_val = 0\n",
        "                for k in range(self.cols):\n",
        "                    sum_val += self.data[i][k] * other.data[k][j]\n",
        "                result.data[i][j] = sum_val\n",
        "        return result\n",
        "\n",
        "    def get_column(self, col_index):\n",
        "        \"\"\"Получение столбца по индексу\"\"\"\n",
        "        if col_index < 0 or col_index >= self.cols:\n",
        "            raise IndexError(\"Индекс столбца вне допустимого диапазона\")\n",
        "\n",
        "        return [row[col_index] for row in self.data]\n",
        "\n",
        "    def det(self): # Вычисление определителя с помощью Гаусса\n",
        "      m = [[self.data[i][j] for j in range(self.cols)] for i in range(self.rows)]\n",
        "      n = self.rows\n",
        "      det = 1\n",
        "\n",
        "      for i in range(n):\n",
        "\n",
        "          x = i\n",
        "          if m[i][i] == 0:\n",
        "              flag = True\n",
        "              for y in range(i + 1, n):\n",
        "                  if m[y][i] != 0:\n",
        "                      flag = False\n",
        "                      x = y\n",
        "                      break\n",
        "              if flag:\n",
        "                  return 0\n",
        "              else:\n",
        "                  m[i], m[x] = m[x], m[i]\n",
        "                  det *= -1\n",
        "\n",
        "          det *= m[i][i]\n",
        "          for j in range(i + 1, n):\n",
        "              factor = m[j][i] / m[i][i]\n",
        "              for k in range(i, n):\n",
        "                  m[j][k] -= factor * m[i][k]\n",
        "\n",
        "      return det\n",
        "\n",
        "    def corner_det(self, n):\n",
        "      if not 1 <= n <= min(self.rows, self.cols):\n",
        "          raise ValueError(f\"Некорректный порядок минора n={n} для матрицы {self.rows}x{self.cols}\")\n",
        "\n",
        "      # Создаём подматрицу из первых n строк и столбцов\n",
        "      minor_data = [[self.data[i][j] for j in range(n)] for i in range(n)]\n",
        "      minor = Matrix(n, n, minor_data)\n",
        "\n",
        "      return minor.det()\n",
        "\n",
        "    def __str__(self):\n",
        "        \"\"\"Строковое представление матрицы\"\"\"\n",
        "        return '\\n'.join([' '.join(map(str, row)) for row in self.data])\n",
        "\n",
        "\n",
        "# Пример использования\n",
        "if __name__ == \"__main__\":\n",
        "    # Создаем матрицы\n",
        "    m1 = Matrix(2, 3, [[1, 2, 3], [4, 5, 6]])\n",
        "    m2 = Matrix(2, 3, [[6, 5, 4], [3, 2, 1]])\n",
        "    m3 = Matrix(3, 2, [[1, 2], [3, 4], [5, 6]])\n",
        "\n",
        "    print(\"Матрица 1:\")\n",
        "    print(m1)\n",
        "    print(\"\\nМатрица 2:\")\n",
        "    print(m2)\n",
        "    print(\"\\nМатрица 3:\")\n",
        "    print(m3)\n",
        "\n",
        "    # Сложение матриц\n",
        "    print(\"\\nСложение матриц 1 и 2:\")\n",
        "    print(m1.sum(m2))\n",
        "\n",
        "    # Умножение на скаляр\n",
        "    print(\"\\nУмножение матрицы 1 на 2:\")\n",
        "    print(m1.increase(2))\n",
        "\n",
        "    # Умножение матриц\n",
        "    print(\"\\nУмножение матриц 1 и 3:\")\n",
        "    print(m1.mult(m3))\n",
        "\n",
        "    # Получение столбца\n",
        "    print(\"\\nВторой столбец матрицы 1:\")\n",
        "    print(m1.get_column(1))\n",
        "\n",
        "    m5 = Matrix(3, 3, [[1, 2, 3], [1, 5, 6], [1, 3, 5]])\n",
        "    print('\\ndet', m5.corner_det(3))\n"
      ]
    },
    {
      "cell_type": "code",
      "source": [
        "def gauss_solver(A: Matrix, b: Matrix):\n",
        "    \"\"\"\n",
        "    Вход:\n",
        "    A: матрица коэффициентов (n×n). Используется класс Matrix из предыдущей\n",
        "    лабораторной работы→\n",
        "    b: вектор правых частей (n×1)\n",
        "    Выход:\n",
        "    Raises:\n",
        "    list[Matrix]: список базисных векторов решения системы\n",
        "    ValueError: если система несовместна\n",
        "    \"\"\"\n",
        "\n",
        "    # assert m == [[]], 'Matrix is empty'\n",
        "    # assert len(m) != len(m[0]), 'Not square matrix'\n",
        "\n",
        "    # Приводим к ступенчатому виду\n",
        "    A = A.data\n",
        "    b = b.data\n",
        "    n = len(A)\n",
        "    lead = [0] * n\n",
        "    shift = 0\n",
        "    i = 0\n",
        "\n",
        "    while i + shift < n:  # проходимся по строкам\n",
        "\n",
        "        x = i\n",
        "        col = i + shift\n",
        "        if A[x][col] == 0:\n",
        "            flag = True\n",
        "            for y in range(x + 1, n):\n",
        "                if A[y][col] != 0:\n",
        "                    flag = False\n",
        "                    x = y\n",
        "                    break\n",
        "            if flag:\n",
        "                shift += 1\n",
        "                continue\n",
        "            else:\n",
        "                A[i], A[x] = A[x], A[i]\n",
        "                b[i], b[x] = b[x], b[i]\n",
        "\n",
        "        for j in range(i + 1, n):\n",
        "            factor = A[j][col] / A[i][col]\n",
        "            b[j][0] -= factor * b[i][0]\n",
        "            for k in range(col, n):\n",
        "                A[j][k] -= factor * A[i][k]\n",
        "\n",
        "        lead[i] = i + shift\n",
        "        i += 1\n",
        "\n",
        "\n",
        "    solution = [0] * n\n",
        "    free_vars = [True] * n\n",
        "    rank = i\n",
        "\n",
        "    for row in range(n):\n",
        "        col = lead[row]\n",
        "        solution[col] = b[row]\n",
        "        free_vars[col] = False\n",
        "\n",
        "    # Построение базиса фундаментальной системы решений\n",
        "    basis = []\n",
        "    nullity = n - rank  # Размерность пространства решений\n",
        "\n",
        "    for i in range(nullity):\n",
        "        # Находим свободную переменную\n",
        "        free_col = -1\n",
        "        for col in range(n):\n",
        "            if free_vars[col]:\n",
        "                free_col = col\n",
        "                break\n",
        "\n",
        "        if free_col == -1:\n",
        "            break\n",
        "\n",
        "        # Создаем вектор решения\n",
        "        basis_vector = [0] * n\n",
        "        basis_vector[free_col] = 1\n",
        "\n",
        "        # Находим значения зависимых переменных\n",
        "        for row in range(rank):\n",
        "            col = lead[row]\n",
        "            basis_vector[col] = -A[row][free_col]\n",
        "\n",
        "        basis.append(basis_vector)\n",
        "        free_vars[free_col] = False\n",
        "\n",
        "    return basis"
      ],
      "metadata": {
        "id": "yd4jsgQhxoee"
      },
      "execution_count": null,
      "outputs": []
    },
    {
      "cell_type": "code",
      "source": [
        "if __name__ == \"__main__\":\n",
        "    # Пример 1: Одно решение\n",
        "    A1 = Matrix(3,3,[\n",
        "        [2, 1, -1],\n",
        "        [-3, -1, 2],\n",
        "        [-2, 1, 2]\n",
        "    ])\n",
        "    b1 = Matrix(3,1,[[8], [-11], [-3]])\n",
        "\n",
        "    print(\"Пример 1 (одно решение):\")\n",
        "    res1 = gauss_solver(A1, b1)\n",
        "    print(res1)\n",
        "\n",
        "    # Пример 2: Бесконечно много решений\n",
        "    A2 = Matrix(3,3,[\n",
        "        [1, 2, 3],\n",
        "        [4, 5, 6],\n",
        "        [7, 8, 9]\n",
        "    ])\n",
        "    b2 = Matrix(3,1,[[1], [2], [3]])\n",
        "\n",
        "    print(\"\\nПример 2 (бесконечно много решений):\")\n",
        "    res2 = gauss_solver(A2, b2)\n",
        "    print(res2)\n",
        "\n",
        "    # Пример 4: Однородная система\n",
        "    A4 = Matrix(3,3,[\n",
        "        [1, 2, 3],\n",
        "        [1, 2, 3],\n",
        "        [1, 2, 3]\n",
        "    ])\n",
        "    b4 = Matrix(3,1,[[1], [1], [1]])\n",
        "    print(\"\\nПример 4 (однородная система):\")\n",
        "    res4 = gauss_solver(A4,b4)\n",
        "    print(res4)"
      ],
      "metadata": {
        "colab": {
          "base_uri": "https://localhost:8080/"
        },
        "id": "nZLaDFZIQArE",
        "outputId": "0dcc9370-acb2-41c8-ade1-9fa77087753d"
      },
      "execution_count": null,
      "outputs": [
        {
          "output_type": "stream",
          "name": "stdout",
          "text": [
            "Пример 1 (одно решение):\n",
            "[]\n",
            "\n",
            "Пример 2 (бесконечно много решений):\n",
            "[[-3, 6.0, 1]]\n",
            "\n",
            "Пример 4 (однородная система):\n",
            "[[-2, 1, 0], [-3, 0, 1]]\n"
          ]
        }
      ]
    },
    {
      "cell_type": "code",
      "source": [
        "def center_data(X: Matrix) -> Matrix:\n",
        "  \"\"\"\n",
        "  Вход: матрица данных X (n×m)\n",
        "  Выход: центрированная матрица X_centered (n×m)\n",
        "  \"\"\"\n",
        "  cols = X.cols\n",
        "  rows = X.rows\n",
        "  Centered_X = Matrix(rows, cols)\n",
        "  Centered_X.data = [row.copy() for row in X.data]\n",
        "\n",
        "  means = [sum(X.get_column(i)) / rows for i in range(cols)]\n",
        "\n",
        "  for row in range(rows):\n",
        "    for col in range(cols):\n",
        "      Centered_X.data[row][col] -= means[col]\n",
        "\n",
        "  return Centered_X\n",
        "\n",
        "X = Matrix(3,3, [[1,2,3],[1,3,5],[1,4,6]])\n",
        "print(center_data(X))\n",
        "print(X)"
      ],
      "metadata": {
        "colab": {
          "base_uri": "https://localhost:8080/"
        },
        "id": "8mTi-2ZiQrT3",
        "outputId": "76100231-d8ef-40e6-fdc5-bdc0d733c848"
      },
      "execution_count": null,
      "outputs": [
        {
          "output_type": "stream",
          "name": "stdout",
          "text": [
            "0.0 -1.0 -1.666666666666667\n",
            "0.0 0.0 0.33333333333333304\n",
            "0.0 1.0 1.333333333333333\n",
            "1 2 3\n",
            "1 3 5\n",
            "1 4 6\n"
          ]
        }
      ]
    },
    {
      "cell_type": "code",
      "source": [
        "def T(X: Matrix) -> Matrix:\n",
        "  cols = X.cols\n",
        "  rows = X.rows\n",
        "  X_T = Matrix(rows, cols)\n",
        "  X_T.data = [row.copy() for row in X.data]\n",
        "\n",
        "  for row in range(rows//2 + 1):\n",
        "    for col in range(cols//2 + 1):\n",
        "      X_T.data[row][col], X_T.data[col][row] = X_T.data[col][row], X_T.data[row][col]\n",
        "\n",
        "  return X_T\n"
      ],
      "metadata": {
        "id": "BznP1rM-WJ2C"
      },
      "execution_count": null,
      "outputs": []
    },
    {
      "cell_type": "code",
      "source": [
        "def covariance_matrix(X_centered: Matrix) -> Matrix:\n",
        "  \"\"\"\n",
        "  Вход: центрированная матрица X_centered (n×m)\n",
        "  Выход: матрица ковариаций C (m×m)\n",
        "  \"\"\"\n",
        "  cols = X_centered.cols\n",
        "  rows = X_centered.rows\n",
        "  E = T(X_centered).mult(X_centered).increase(1/(rows + 1))\n",
        "\n",
        "  return E\n",
        "\n",
        "X = Matrix(3,3, [[1,2,3],[1,3,5],[1,4,6]])\n",
        "print(covariance_matrix(center_data(X)))"
      ],
      "metadata": {
        "colab": {
          "base_uri": "https://localhost:8080/"
        },
        "id": "GhprTkTIV79_",
        "outputId": "8c71d4fd-d7b2-45d4-8d1a-48a0b9d76310"
      },
      "execution_count": null,
      "outputs": [
        {
          "output_type": "stream",
          "name": "stdout",
          "text": [
            "0.0 -0.41666666666666674 -0.6388888888888888\n",
            "0.0 0.08333333333333326 0.111111111111111\n",
            "0.0 0.33333333333333326 0.5277777777777775\n"
          ]
        }
      ]
    },
    {
      "cell_type": "code",
      "source": [
        "def sturm_sequence(A: Matrix, lambd: float):\n",
        "    \"\"\"Последовательность Штурма для матрицы A и значения λ\"\"\"\n",
        "    n = A.rows\n",
        "    A_l = Matrix(n, A.cols)\n",
        "\n",
        "    for i in range(n):\n",
        "      for j in range(A.cols):\n",
        "          A_l.data[i][j] = A.data[i][j]\n",
        "      A_l.data[i][i] -= lambd\n",
        "\n",
        "    D = [1, A_l.data[0][0]]\n",
        "    for i in range(2, n + 1):\n",
        "      D.append(A_l.corner_det(i))\n",
        "\n",
        "    return D\n",
        "\n",
        "def count_sign_changes(sequence):\n",
        "    \"\"\"Подсчет числа перемен знака в последовательности\"\"\"\n",
        "    count = 0\n",
        "    for i in range(1, len(sequence)):\n",
        "        if sequence[i-1]*sequence[i] < 0:\n",
        "            count += 1\n",
        "    return count\n",
        "\n",
        "def bisection_eigenvalues(A, a, b, epsilon=1e-6, max_depth=10):\n",
        "    \"\"\"Нахождение собственных значений методом бисекции\"\"\"\n",
        "    eigenvalues = []\n",
        "\n",
        "    def bisect(a, b, depth=0):\n",
        "        nonlocal eigenvalues\n",
        "\n",
        "        if depth > max_depth:\n",
        "            return\n",
        "\n",
        "        s_a = count_sign_changes(sturm_sequence(A, a))\n",
        "        s_b = count_sign_changes(sturm_sequence(A, b))\n",
        "\n",
        "\n",
        "        n_eigen = abs(s_b - s_a)\n",
        "\n",
        "        if n_eigen == 0:\n",
        "            return\n",
        "        elif n_eigen == 1:\n",
        "            while b - a > epsilon:\n",
        "                mid = (a + b)/2\n",
        "                s_mid = count_sign_changes(sturm_sequence(A, mid))\n",
        "                if s_mid - s_a == 0:\n",
        "                    a = mid\n",
        "                else:\n",
        "                    b = mid\n",
        "            eigenvalues.append((a + b)/2)\n",
        "        else:\n",
        "            mid = (a + b)/2\n",
        "            bisect(a, mid, depth+1)\n",
        "            bisect(mid, b, depth+1)\n",
        "\n",
        "    bisect(a, b)\n",
        "    return sorted(eigenvalues)"
      ],
      "metadata": {
        "id": "TjlBhj05Xk-9"
      },
      "execution_count": null,
      "outputs": []
    },
    {
      "cell_type": "code",
      "source": [
        "M = Matrix(2,2,[[4,2],[2,9]])\n",
        "bisection_eigenvalues(M, -10, 10)\n"
      ],
      "metadata": {
        "colab": {
          "base_uri": "https://localhost:8080/"
        },
        "id": "P4EHiJSxxqE4",
        "outputId": "1d5b1550-b3a1-4c9f-a926-114debd81f49"
      },
      "execution_count": null,
      "outputs": [
        {
          "output_type": "execute_result",
          "data": {
            "text/plain": [
              "[3.2984378933906555, 9.701562225818634]"
            ]
          },
          "metadata": {},
          "execution_count": 193
        }
      ]
    },
    {
      "cell_type": "code",
      "source": [
        "def find_eigenvectors(C: Matrix, eigenvalues: list[float]) -> list[Matrix]:\n",
        "    \"\"\"\n",
        "    Вход:\n",
        "    C: матрица ковариаций (m×m)\n",
        "    eigenvalues: список собственных значений\n",
        "    Выход: список собственных векторов (каждый вектор - объект Matrix)\n",
        "    \"\"\"\n",
        "    n = C.rows\n",
        "    m = C.cols\n",
        "    I = Matrix(n,m)\n",
        "    Z = Matrix(n,1)\n",
        "    for i in range(n):\n",
        "      for j in range(m):\n",
        "        if i!=j:\n",
        "          I.data[i][j] = 0\n",
        "        else:\n",
        "          I.data[i][j] = 1\n",
        "\n",
        "    eigenvectors = []\n",
        "    for l in eigenvalues:\n",
        "        eigenvectors.append(gauss_solver(C.sum(I.increase(-l)), Z))\n"
      ],
      "metadata": {
        "id": "QQ45eSOCRUoE"
      },
      "execution_count": null,
      "outputs": []
    },
    {
      "cell_type": "code",
      "source": [
        "def explained_variance_ratio(eigenvalues: list[float], k: int) -> float:\n",
        "    \"\"\"\n",
        "    Вход:\n",
        "    eigenvalues: список собственных значений\n",
        "    k: число компонент\n",
        "    Выход: доля объяснённой дисперсии\n",
        "    \"\"\"\n",
        "    return sum(eigenvalues[:k]) / sum(eigenvalues)\n",
        "\n"
      ],
      "metadata": {
        "id": "VWOazT9-TfVE"
      },
      "execution_count": null,
      "outputs": []
    },
    {
      "cell_type": "code",
      "source": [
        "def project_data(X: Matrix, components: Matrix) -> Matrix:\n",
        "    \"\"\"Проецирование данных на главные компоненты.\"\"\"\n",
        "    n_samples = len(X)\n",
        "    k = len(components)\n",
        "\n",
        "    projected = [[0.0] * k for _ in range(n_samples)]\n",
        "\n",
        "    for i in range(n_samples):\n",
        "        for j in range(k):\n",
        "            projected[i][j] = sum(X[i][l] * components[j][l] for l in range(len(X[0])))\n",
        "\n",
        "    return projected"
      ],
      "metadata": {
        "id": "kiXBZLtlYHmX"
      },
      "execution_count": null,
      "outputs": []
    },
    {
      "cell_type": "code",
      "source": [
        "def pca(X: Matrix, k: int) -> tuple[Matrix, float]:\n",
        "    \"\"\"\n",
        "    Вход:\n",
        "    X: матрица данных (n×m)\n",
        "    k: число главных компонент\n",
        "    Выход:\n",
        "    X_proj: проекция данных (n×k)\n",
        "    : доля объяснённой дисперсии\n",
        "    \"\"\"\n",
        "    X_centered = center_data(X)\n",
        "\n",
        "    cov_matrix = compute_covariance_matrix(X_centered)\n",
        "\n",
        "    eigenvalues = bisection_eigenvalues(covariance_matrix)\n",
        "    eigenvectors = find_eigenvectors(X, eigenvalues)\n",
        "\n",
        "    top_k_eigenvectors = [eigenvectors[i] for i in sorted_indices[:k]]\n",
        "\n",
        "    projected_data = project_data(X_centered, top_k_eigenvectors)\n",
        "\n",
        "    explained_variance = explained_variance_ratio(eigenvectors, k)\n",
        "\n",
        "    return projected_data, explained_variance"
      ],
      "metadata": {
        "id": "Wzt9IN22VIHL"
      },
      "execution_count": null,
      "outputs": []
    },
    {
      "cell_type": "code",
      "source": [
        "from matplotlib.figure import Figure\n",
        "from matplotlib.backends.backend_agg import FigureCanvasAgg\n",
        "import io\n",
        "\n",
        "def plot_pca_projection(X_proj: 'Matrix') -> Figure:\n",
        "    \"\"\"\n",
        "    Вход: проекция данных X_proj (n×2)\n",
        "    Выход: объект Figure из Matplotlib\n",
        "    \"\"\"\n",
        "    fig = Figure(figsize=(6, 6))\n",
        "    canvas = FigureCanvasAgg(fig)\n",
        "    ax = fig.add_subplot(111)\n",
        "\n",
        "    x = [row[0] for row in X_proj]\n",
        "    y = [row[1] for row in X_proj]\n",
        "\n",
        "    ax.scatter(x, y, alpha=0.7, edgecolors='w', s=40)\n",
        "\n",
        "    ax.set_title('2D Projection via PCA', pad=15)\n",
        "    ax.set_xlabel('Principal Component 1')\n",
        "    ax.set_ylabel('Principal Component 2')\n",
        "    ax.grid(True, linestyle='--', alpha=0.6)\n",
        "\n",
        "    return fig\n"
      ],
      "metadata": {
        "id": "6lrm1wzyYzUx"
      },
      "execution_count": null,
      "outputs": []
    },
    {
      "cell_type": "code",
      "source": [
        "projected_data = [\n",
        "    [-2.5, 0.3],\n",
        "    [1.1, -1.8],\n",
        "    [3.7, 2.1],\n",
        "    [-0.8, -0.6],\n",
        "    [1.5, 1.2]\n",
        "]\n",
        "\n",
        "fig = plot_pca_projection(projected_data)\n",
        "fig"
      ],
      "metadata": {
        "colab": {
          "base_uri": "https://localhost:8080/",
          "height": 577
        },
        "id": "RfJazP9EZy2W",
        "outputId": "9f1f23a0-1b1d-4a6b-a820-c77966d15e68"
      },
      "execution_count": null,
      "outputs": [
        {
          "output_type": "execute_result",
          "data": {
            "text/plain": [
              "<Figure size 600x600 with 1 Axes>"
            ],
            "image/png": "[encoded data removed]"
          },
          "metadata": {},
          "execution_count": 205
        }
      ]
    },
    {
      "cell_type": "code",
      "source": [
        "def reconstruction_error(X_orig:'Matrix', X_recon:'Matrix') -> float:\n",
        "    \"\"\"\n",
        "    Вход:\n",
        "    X_orig: исходные данные (n×m)\n",
        "    X_recon: восстановленные данные (n×m)\n",
        "    Выход: среднеквадратическая ошибка MSE\n",
        "    \"\"\"\n",
        "    n = X_orig.rows\n",
        "    m = X_orig[0].cols\n",
        "    total_squared_error = 0.0\n",
        "\n",
        "    for i in range(n_samples):\n",
        "        for j in range(n_features):\n",
        "            total_squared_error += (X_orig[i][j] - X_recon[i][j]) ** 2\n",
        "\n",
        "    return total_squared_error / (n * m)"
      ],
      "metadata": {
        "id": "TLxinNNZaV0J"
      },
      "execution_count": null,
      "outputs": []
    }
  ]
}
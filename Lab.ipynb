{
  "nbformat": 4,
  "nbformat_minor": 0,
  "metadata": {
    "colab": {
      "provenance": [],
      "authorship_tag": "ABX9TyMyOi2bv0ET8i+PnpcpkKHV",
      "include_colab_link": true
    },
    "kernelspec": {
      "name": "python3",
      "display_name": "Python 3"
    },
    "language_info": {
      "name": "python"
    }
  },
  "cells": [
    {
      "cell_type": "markdown",
      "metadata": {
        "id": "view-in-github",
        "colab_type": "text"
      },
      "source": [
        "<a href=\"https://colab.research.google.com/github/StupichevA/Linal_Lab_PCA/blob/main/Lab.ipynb\" target=\"_parent\"><img src=\"https://colab.research.google.com/assets/colab-badge.svg\" alt=\"Open In Colab\"/></a>"
      ]
    },
    {
      "cell_type": "code",
      "execution_count": 246,
      "metadata": {
        "id": "2wQqgx0Auozj"
      },
      "outputs": [],
      "source": [
        "class Matrix:\n",
        "    def __init__(self, rows, cols, data=None):\n",
        "        self.rows = rows\n",
        "        self.cols = cols\n",
        "\n",
        "        if data is not None:\n",
        "            if len(data) != rows or any(len(row) != cols for row in data):\n",
        "                raise ValueError(\"Размеры данных не соответствуют указанным rows и cols\")\n",
        "            self.data = data\n",
        "        else:\n",
        "            self.data = [[0 for _ in range(cols)] for _ in range(rows)]\n",
        "\n",
        "    def sum(self, other):\n",
        "        if self.rows != other.rows or self.cols != other.cols:\n",
        "            raise ValueError(\"Матрицы разные\")\n",
        "\n",
        "        result = Matrix(self.rows, self.cols)\n",
        "        for i in range(self.rows):\n",
        "            for j in range(self.cols):\n",
        "                result.data[i][j] = self.data[i][j] + other.data[i][j]\n",
        "        return result\n",
        "\n",
        "    def increase(self, scalar):\n",
        "        result = Matrix(self.rows, self.cols)\n",
        "\n",
        "        for i in range(self.rows):\n",
        "            for j in range(self.cols):\n",
        "                result.data[i][j] = self.data[i][j] * scalar\n",
        "        return result\n",
        "\n",
        "    def mult(self, other):\n",
        "        if self.cols != other.rows:\n",
        "            raise ValueError(\"Количество столбцов и строк разное\")\n",
        "\n",
        "        result = Matrix(self.rows, other.cols)\n",
        "        for i in range(self.rows):\n",
        "            for j in range(other.cols):\n",
        "                sum_val = 0\n",
        "                for k in range(self.cols):\n",
        "                    sum_val += self.data[i][k] * other.data[k][j]\n",
        "                result.data[i][j] = sum_val\n",
        "        return result\n",
        "\n",
        "    def get_column(self, col_index):\n",
        "        if col_index < 0 or col_index >= self.cols:\n",
        "            raise IndexError(\"Столбец за границей\")\n",
        "\n",
        "        return [row[col_index] for row in self.data]\n",
        "\n",
        "    def det(self):\n",
        "      m = [[self.data[i][j] for j in range(self.cols)] for i in range(self.rows)]\n",
        "      n = self.rows\n",
        "      det = 1\n",
        "\n",
        "      for i in range(n):\n",
        "\n",
        "          x = i\n",
        "          if m[i][i] == 0:\n",
        "              flag = True\n",
        "              for y in range(i + 1, n):\n",
        "                  if m[y][i] != 0:\n",
        "                      flag = False\n",
        "                      x = y\n",
        "                      break\n",
        "              if flag:\n",
        "                  return 0\n",
        "              else:\n",
        "                  m[i], m[x] = m[x], m[i]\n",
        "                  det *= -1\n",
        "\n",
        "          det *= m[i][i]\n",
        "          for j in range(i + 1, n):\n",
        "              factor = m[j][i] / m[i][i]\n",
        "              for k in range(i, n):\n",
        "                  m[j][k] -= factor * m[i][k]\n",
        "\n",
        "      return det\n",
        "\n",
        "    def corner_det(self, n):\n",
        "      minor_data = [[self.data[i][j] for j in range(n)] for i in range(n)]\n",
        "      minor = Matrix(n, n, minor_data)\n",
        "\n",
        "      return minor.det()\n",
        "\n",
        "    def __str__(self):\n",
        "        return '\\n'.join([' '.join(map(str, row)) for row in self.data])\n"
      ]
    },
    {
      "cell_type": "code",
      "source": [
        "def gauss_solver(A: Matrix, b: Matrix):\n",
        "    \"\"\"\n",
        "    Вход:\n",
        "    A: матрица коэффициентов (n×n). Используется класс Matrix из предыдущей\n",
        "    лабораторной работы→\n",
        "    b: вектор правых частей (n×1)\n",
        "    Выход:\n",
        "    Raises:\n",
        "    list[Matrix]: список базисных векторов решения системы\n",
        "    ValueError: если система несовместна\n",
        "    \"\"\"\n",
        "\n",
        "    if not A.data or not b.data:\n",
        "        raise ValueError(\"Матрица пуста\")\n",
        "\n",
        "    if A.rows != A.cols:\n",
        "        raise ValueError(\"Матрица  не квадратной\")\n",
        "\n",
        "    if A.rows != b.rows or b.cols != 1:\n",
        "        raise ValueError(\"Несоответствие размеров матрицы и вектора\")\n",
        "\n",
        "    n = A.rows\n",
        "    A = [row.copy() for row in A.data]\n",
        "    b = [row.copy() for row in b.data]\n",
        "\n",
        "    lead = 0\n",
        "    rank = 0\n",
        "\n",
        "    for r in range(n):\n",
        "        if lead >= n:\n",
        "            break\n",
        "\n",
        "        i = r\n",
        "        while A[i][lead] == 0:\n",
        "            i += 1\n",
        "            if i == n:\n",
        "                i = r\n",
        "                lead += 1\n",
        "                if n == lead:\n",
        "                    break\n",
        "\n",
        "        if lead >= n:\n",
        "            break\n",
        "\n",
        "        A[i], A[r] = A[r], A[i]\n",
        "        b[i], b[r] = b[r], b[i]\n",
        "\n",
        "        pivot = A[r][lead]\n",
        "        if pivot != 0:\n",
        "            for j in range(lead, n):\n",
        "                A[r][j] /= pivot\n",
        "            b[r][0] /= pivot\n",
        "\n",
        "\n",
        "            for k in range(n):\n",
        "                if k != r and A[k][lead] != 0:\n",
        "                    factor = A[k][lead]\n",
        "                    for j in range(lead, n):\n",
        "                        A[k][j] -= factor * A[r][j]\n",
        "                    b[k][0] -= factor * b[r][0]\n",
        "\n",
        "            lead += 1\n",
        "            rank += 1\n",
        "\n",
        "    # for i in range(rank, n):\n",
        "    #     if abs(b[i][0]) > 1e-10:\n",
        "    #         raise ValueError(\"Система несовместна\")\n",
        "\n",
        "    basis = []\n",
        "    free_vars = [True] * n\n",
        "\n",
        "    for i in range(rank):\n",
        "        for j in range(n):\n",
        "            if A[i][j] == 1:\n",
        "                free_vars[j] = False\n",
        "                break\n",
        "\n",
        "    for j in range(n):\n",
        "        if free_vars[j]:\n",
        "            vec = [0.0] * n\n",
        "            vec[j] = 1.0\n",
        "\n",
        "            for i in range(rank):\n",
        "                for k in range(n):\n",
        "                    if A[i][k] == 1:\n",
        "                        vec[k] = -A[i][j]\n",
        "                        break\n",
        "\n",
        "            basis.append(vec)\n",
        "\n",
        "    basis_matrices = []\n",
        "    for vec in basis:\n",
        "        basis_matrices.append(Matrix(n, 1, [[x] for x in vec]))\n",
        "\n",
        "    return basis_matrices"
      ],
      "metadata": {
        "id": "yd4jsgQhxoee"
      },
      "execution_count": 247,
      "outputs": []
    },
    {
      "cell_type": "code",
      "source": [
        "A = Matrix(3,3,[\n",
        "    [1, 2, 3],\n",
        "    [1, 2, 3],\n",
        "    [7, 8, 9]\n",
        "])\n",
        "b = Matrix(3,1,[[1], [1], [3]])\n",
        "res = gauss_solver(A, b)\n",
        "print(*res)\n",
        "\n",
        "B = Matrix(2,2,[[0.7015621066093445, 2.0],\n",
        "[2.0, 5.7015621066093445]])\n",
        "a = Matrix(2,1,[[0],[0]])\n",
        "r = gauss_solver(B, a)\n",
        "print(*r)"
      ],
      "metadata": {
        "colab": {
          "base_uri": "https://localhost:8080/"
        },
        "id": "nZLaDFZIQArE",
        "outputId": "6678aba1-ca93-47db-8448-0f79142fe072"
      },
      "execution_count": 248,
      "outputs": [
        {
          "output_type": "stream",
          "name": "stdout",
          "text": [
            "1.0\n",
            "-2.0\n",
            "1.0\n",
            "\n"
          ]
        }
      ]
    },
    {
      "cell_type": "code",
      "source": [
        "def center_data(X: Matrix) -> Matrix:\n",
        "  \"\"\"\n",
        "  Вход: матрица данных X (n×m)\n",
        "  Выход: центрированная матрица X_centered (n×m)\n",
        "  \"\"\"\n",
        "  cols = X.cols\n",
        "  rows = X.rows\n",
        "  Centered_X = Matrix(rows, cols)\n",
        "  Centered_X.data = [row.copy() for row in X.data]\n",
        "\n",
        "  means = [sum(X.get_column(i)) / rows for i in range(cols)]\n",
        "\n",
        "  for row in range(rows):\n",
        "    for col in range(cols):\n",
        "      Centered_X.data[row][col] -= means[col]\n",
        "\n",
        "  return Centered_X\n",
        "\n",
        "X = Matrix(3,3, [[1,2,3],[1,3,5],[1,4,6]])\n",
        "print(center_data(X))\n",
        "print(X)"
      ],
      "metadata": {
        "colab": {
          "base_uri": "https://localhost:8080/"
        },
        "id": "8mTi-2ZiQrT3",
        "outputId": "44f968a8-1f7d-496b-c84d-3bef4c3c21a5"
      },
      "execution_count": 249,
      "outputs": [
        {
          "output_type": "stream",
          "name": "stdout",
          "text": [
            "0.0 -1.0 -1.666666666666667\n",
            "0.0 0.0 0.33333333333333304\n",
            "0.0 1.0 1.333333333333333\n",
            "1 2 3\n",
            "1 3 5\n",
            "1 4 6\n"
          ]
        }
      ]
    },
    {
      "cell_type": "code",
      "source": [
        "def T(X: Matrix) -> Matrix:\n",
        "  cols = X.cols\n",
        "  rows = X.rows\n",
        "  X_T = Matrix(rows, cols)\n",
        "  X_T.data = [row.copy() for row in X.data]\n",
        "\n",
        "  for row in range(rows//2 + 1):\n",
        "    for col in range(cols//2 + 1):\n",
        "      X_T.data[row][col], X_T.data[col][row] = X_T.data[col][row], X_T.data[row][col]\n",
        "\n",
        "  return X_T\n"
      ],
      "metadata": {
        "id": "BznP1rM-WJ2C"
      },
      "execution_count": 250,
      "outputs": []
    },
    {
      "cell_type": "code",
      "source": [
        "def covariance_matrix(X_centered: Matrix) -> Matrix:\n",
        "  \"\"\"\n",
        "  Вход: центрированная матрица X_centered (n×m)\n",
        "  Выход: матрица ковариаций C (m×m)\n",
        "  \"\"\"\n",
        "  cols = X_centered.cols\n",
        "  rows = X_centered.rows\n",
        "  E = T(X_centered).mult(X_centered).increase(1/(rows + 1))\n",
        "\n",
        "  return E\n",
        "\n",
        "X = Matrix(3,3, [[1,2,3],[1,3,5],[1,4,6]])\n",
        "print(covariance_matrix(center_data(X)))"
      ],
      "metadata": {
        "colab": {
          "base_uri": "https://localhost:8080/"
        },
        "id": "GhprTkTIV79_",
        "outputId": "be489c8e-ca0c-493e-c83c-fd46f843a118"
      },
      "execution_count": 251,
      "outputs": [
        {
          "output_type": "stream",
          "name": "stdout",
          "text": [
            "0.0 -0.41666666666666674 -0.6388888888888888\n",
            "0.0 0.08333333333333326 0.111111111111111\n",
            "0.0 0.33333333333333326 0.5277777777777775\n"
          ]
        }
      ]
    },
    {
      "cell_type": "code",
      "source": [
        "def sturm_sequence(A: Matrix, lambd: float):\n",
        "    n = A.rows\n",
        "    A_l = Matrix(n, A.cols)\n",
        "\n",
        "    for i in range(n):\n",
        "      for j in range(A.cols):\n",
        "          A_l.data[i][j] = A.data[i][j]\n",
        "      A_l.data[i][i] -= lambd\n",
        "\n",
        "    D = [1, A_l.data[0][0]]\n",
        "    for i in range(2, n + 1):\n",
        "      D.append(A_l.corner_det(i))\n",
        "\n",
        "    return D\n",
        "\n",
        "def count_sign_changes(sequence):\n",
        "    count = 0\n",
        "    for i in range(1, len(sequence)):\n",
        "        if sequence[i-1]*sequence[i] < 0:\n",
        "            count += 1\n",
        "    return count\n",
        "\n",
        "def bisection_eigenvalues(A, a, b, epsilon=1e-6, max_depth=10):\n",
        "    eigenvalues = []\n",
        "\n",
        "    def bisect(a, b, depth=0):\n",
        "        nonlocal eigenvalues\n",
        "\n",
        "        if depth > max_depth:\n",
        "            return\n",
        "\n",
        "        s_a = count_sign_changes(sturm_sequence(A, a))\n",
        "        s_b = count_sign_changes(sturm_sequence(A, b))\n",
        "\n",
        "\n",
        "        n_eigen = abs(s_b - s_a)\n",
        "\n",
        "        if n_eigen == 0:\n",
        "            return\n",
        "        elif n_eigen == 1:\n",
        "            while b - a > epsilon:\n",
        "                mid = (a + b)/2\n",
        "                s_mid = count_sign_changes(sturm_sequence(A, mid))\n",
        "                if s_mid - s_a == 0:\n",
        "                    a = mid\n",
        "                else:\n",
        "                    b = mid\n",
        "            eigenvalues.append((a + b)/2)\n",
        "        else:\n",
        "            mid = (a + b)/2\n",
        "            bisect(a, mid, depth+1)\n",
        "            bisect(mid, b, depth+1)\n",
        "\n",
        "    bisect(a, b)\n",
        "    return sorted(eigenvalues)"
      ],
      "metadata": {
        "id": "TjlBhj05Xk-9"
      },
      "execution_count": 252,
      "outputs": []
    },
    {
      "cell_type": "code",
      "source": [
        "M = Matrix(2,2,[[4,2],[2,9]])\n",
        "bisection_eigenvalues(M, -10, 10)\n"
      ],
      "metadata": {
        "colab": {
          "base_uri": "https://localhost:8080/"
        },
        "id": "P4EHiJSxxqE4",
        "outputId": "489206c3-ad09-4a10-d41a-b5aef4fc5d89"
      },
      "execution_count": 253,
      "outputs": [
        {
          "output_type": "execute_result",
          "data": {
            "text/plain": [
              "[3.2984378933906555, 9.701562225818634]"
            ]
          },
          "metadata": {},
          "execution_count": 253
        }
      ]
    },
    {
      "cell_type": "code",
      "source": [
        "def find_eigenvectors(C: Matrix, eigenvalues: list[float]) -> list[Matrix]:\n",
        "    \"\"\"\n",
        "    Вход:\n",
        "    C: матрица ковариаций (m×m)\n",
        "    eigenvalues: список собственных значений\n",
        "    Выход: список собственных векторов (каждый вектор - объект Matrix)\n",
        "    \"\"\"\n",
        "    n = C.rows\n",
        "    m = C.cols\n",
        "    I = Matrix(n,m)\n",
        "    Z = Matrix(n,1)\n",
        "    for i in range(n):\n",
        "      for j in range(m):\n",
        "        if i!=j:\n",
        "          I.data[i][j] = 0\n",
        "        else:\n",
        "          I.data[i][j] = 1\n",
        "\n",
        "    eigenvectors = []\n",
        "    for l in eigenvalues:\n",
        "      print(l, \"\\n\", C.sum(I.increase(-l)))\n",
        "      for elem in gauss_solver(C.sum(I.increase(-l)), Z):\n",
        "        eigenvectors.append(elem)\n",
        "\n",
        "    return eigenvectors\n",
        "\n",
        "M = Matrix(2,2,[[4,2],[2,9]])\n",
        "eigenvalues = bisection_eigenvalues(M, -10, 10)\n",
        "find_eigenvectors(M, eigenvalues)"
      ],
      "metadata": {
        "id": "QQ45eSOCRUoE",
        "colab": {
          "base_uri": "https://localhost:8080/"
        },
        "outputId": "351e6dd8-01ed-46f2-eec5-722c6933e2ad"
      },
      "execution_count": 254,
      "outputs": [
        {
          "output_type": "stream",
          "name": "stdout",
          "text": [
            "3.2984378933906555 \n",
            " 0.7015621066093445 2.0\n",
            "2.0 5.7015621066093445\n",
            "9.701562225818634 \n",
            " -5.701562225818634 2.0\n",
            "2.0 -0.701562225818634\n"
          ]
        },
        {
          "output_type": "execute_result",
          "data": {
            "text/plain": [
              "[]"
            ]
          },
          "metadata": {},
          "execution_count": 254
        }
      ]
    },
    {
      "cell_type": "code",
      "source": [
        "def explained_variance_ratio(eigenvalues: list[float], k: int) -> float:\n",
        "    \"\"\"\n",
        "    Вход:\n",
        "    eigenvalues: список собственных значений\n",
        "    k: число компонент\n",
        "    Выход: доля объяснённой дисперсии\n",
        "    \"\"\"\n",
        "    return sum(eigenvalues[:k]) / sum(eigenvalues)\n",
        "\n"
      ],
      "metadata": {
        "id": "VWOazT9-TfVE"
      },
      "execution_count": 255,
      "outputs": []
    },
    {
      "cell_type": "code",
      "source": [
        "def project_data(X: Matrix, components: Matrix) -> Matrix:\n",
        "    \"\"\"Проецирование данных на главные компоненты.\"\"\"\n",
        "    n_samples = len(X)\n",
        "    k = len(components)\n",
        "\n",
        "    projected = [[0.0] * k for _ in range(n_samples)]\n",
        "\n",
        "    for i in range(n_samples):\n",
        "        for j in range(k):\n",
        "            projected[i][j] = sum(X[i][l] * components[j][l] for l in range(len(X[0])))\n",
        "\n",
        "    return projected"
      ],
      "metadata": {
        "id": "kiXBZLtlYHmX"
      },
      "execution_count": 256,
      "outputs": []
    },
    {
      "cell_type": "code",
      "source": [
        "def pca(X: Matrix, k: int) -> tuple[Matrix, float]:\n",
        "    \"\"\"\n",
        "    Вход:\n",
        "    X: матрица данных (n×m)\n",
        "    k: число главных компонент\n",
        "    Выход:\n",
        "    X_proj: проекция данных (n×k)\n",
        "    : доля объяснённой дисперсии\n",
        "    \"\"\"\n",
        "    X_centered = center_data(X)\n",
        "\n",
        "    cov_matrix = covariance_matrix(X_centered)\n",
        "\n",
        "    eigenvalues = bisection_eigenvalues(covariance_matrix)\n",
        "    eigenvectors = find_eigenvectors(X, eigenvalues)\n",
        "\n",
        "    top_k_eigenvectors = eigenvectors[:k]\n",
        "\n",
        "    projected_data = project_data(X_centered, top_k_eigenvectors)\n",
        "\n",
        "    explained_variance = explained_variance_ratio(eigenvectors, k)\n",
        "\n",
        "    return projected_data, explained_variance"
      ],
      "metadata": {
        "id": "Wzt9IN22VIHL"
      },
      "execution_count": 257,
      "outputs": []
    },
    {
      "cell_type": "code",
      "source": [
        "from matplotlib.figure import Figure\n",
        "from matplotlib.backends.backend_agg import FigureCanvasAgg\n",
        "import io\n",
        "\n",
        "def plot_pca_projection(X_proj: 'Matrix') -> Figure:\n",
        "    \"\"\"\n",
        "    Вход: проекция данных X_proj (n×2)\n",
        "    Выход: объект Figure из Matplotlib\n",
        "    \"\"\"\n",
        "    fig = Figure(figsize=(6, 6))\n",
        "    canvas = FigureCanvasAgg(fig)\n",
        "    ax = fig.add_subplot(111)\n",
        "\n",
        "    x = [row[0] for row in X_proj]\n",
        "    y = [row[1] for row in X_proj]\n",
        "\n",
        "    ax.scatter(x, y, alpha=0.7, edgecolors='w', s=40)\n",
        "\n",
        "    ax.set_title('2D Projection via PCA', pad=15)\n",
        "    ax.set_xlabel('Principal Component 1')\n",
        "    ax.set_ylabel('Principal Component 2')\n",
        "    ax.grid(True, linestyle='--', alpha=0.6)\n",
        "\n",
        "    return fig\n"
      ],
      "metadata": {
        "id": "6lrm1wzyYzUx"
      },
      "execution_count": 258,
      "outputs": []
    },
    {
      "cell_type": "code",
      "source": [
        "projected_data = [\n",
        "    [-2.5, 0.3],\n",
        "    [1.1, -1.8],\n",
        "    [3.7, 2.1],\n",
        "    [-0.8, -0.6],\n",
        "    [1.5, 1.2]\n",
        "]\n",
        "\n",
        "fig = plot_pca_projection(projected_data)\n",
        "fig"
      ],
      "metadata": {
        "colab": {
          "base_uri": "https://localhost:8080/",
          "height": 577
        },
        "id": "RfJazP9EZy2W",
        "outputId": "d12affa6-4a22-4666-a3ba-ab30ae39eb11"
      },
      "execution_count": 259,
      "outputs": [
        {
          "output_type": "execute_result",
          "data": {
            "text/plain": [
              "<Figure size 600x600 with 1 Axes>"
            ],
            "image/png": "[encoded data removed]"
          },
          "metadata": {},
          "execution_count": 259
        }
      ]
    },
    {
      "cell_type": "code",
      "source": [
        "def reconstruction_error(X_orig:'Matrix', X_recon:'Matrix') -> float:\n",
        "    \"\"\"\n",
        "    Вход:\n",
        "    X_orig: исходные данные (n×m)\n",
        "    X_recon: восстановленные данные (n×m)\n",
        "    Выход: среднеквадратическая ошибка MSE\n",
        "    \"\"\"\n",
        "    n = X_orig.rows\n",
        "    m = X_orig[0].cols\n",
        "    total_squared_error = 0.0\n",
        "\n",
        "    for i in range(n):\n",
        "        for j in range(m):\n",
        "            total_squared_error += (X_orig[i][j] - X_recon[i][j]) ** 2\n",
        "\n",
        "    return total_squared_error / (n * m)"
      ],
      "metadata": {
        "id": "TLxinNNZaV0J"
      },
      "execution_count": 260,
      "outputs": []
    }
  ]
}
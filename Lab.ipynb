{
  "nbformat": 4,
  "nbformat_minor": 0,
  "metadata": {
    "colab": {
      "provenance": [],
      "include_colab_link": true
    },
    "kernelspec": {
      "name": "python3",
      "display_name": "Python 3"
    },
    "language_info": {
      "name": "python"
    }
  },
  "cells": [
    {
      "cell_type": "markdown",
      "metadata": {
        "id": "view-in-github",
        "colab_type": "text"
      },
      "source": [
        "<a href=\"https://colab.research.google.com/github/StupichevA/Linal_Lab_PCA/blob/main/Lab.ipynb\" target=\"_parent\"><img src=\"https://colab.research.google.com/assets/colab-badge.svg\" alt=\"Open In Colab\"/></a>"
      ]
    },
    {
      "cell_type": "code",
      "source": [
        "import random"
      ],
      "metadata": {
        "id": "bNOBLE2oc76C"
      },
      "execution_count": 309,
      "outputs": []
    },
    {
      "cell_type": "code",
      "execution_count": 310,
      "metadata": {
        "id": "2wQqgx0Auozj"
      },
      "outputs": [],
      "source": [
        "class Matrix:\n",
        "    def __init__(self, rows, cols, data=None):\n",
        "        self.rows = rows\n",
        "        self.cols = cols\n",
        "\n",
        "        if data is not None:\n",
        "            if len(data) != rows or any(len(row) != cols for row in data):\n",
        "                raise ValueError(\"Размеры данных не соответствуют указанным rows и cols\")\n",
        "            self.data = data\n",
        "        else:\n",
        "            self.data = [[0 for _ in range(cols)] for _ in range(rows)]\n",
        "\n",
        "    def sum(self, other):\n",
        "        if self.rows != other.rows or self.cols != other.cols:\n",
        "            raise ValueError(\"Матрицы разные\")\n",
        "\n",
        "        result = Matrix(self.rows, self.cols)\n",
        "        for i in range(self.rows):\n",
        "            for j in range(self.cols):\n",
        "                result.data[i][j] = self.data[i][j] + other.data[i][j]\n",
        "        return result\n",
        "\n",
        "    def increase(self, scalar):\n",
        "        result = Matrix(self.rows, self.cols)\n",
        "\n",
        "        for i in range(self.rows):\n",
        "            for j in range(self.cols):\n",
        "                result.data[i][j] = self.data[i][j] * scalar\n",
        "        return result\n",
        "\n",
        "    def mult(self, other):\n",
        "        if self.cols != other.rows:\n",
        "            raise ValueError(\"Количество столбцов и строк разное\")\n",
        "\n",
        "        result = Matrix(self.rows, other.cols)\n",
        "        for i in range(self.rows):\n",
        "            for j in range(other.cols):\n",
        "                sum_val = 0\n",
        "                for k in range(self.cols):\n",
        "                    sum_val += self.data[i][k] * other.data[k][j]\n",
        "                result.data[i][j] = sum_val\n",
        "        return result\n",
        "\n",
        "    def get_column(self, col_index):\n",
        "        if col_index < 0 or col_index >= self.cols:\n",
        "            raise IndexError(\"Столбец за границей\")\n",
        "\n",
        "        return [row[col_index] for row in self.data]\n",
        "\n",
        "    def det(self):\n",
        "      m = [[self.data[i][j] for j in range(self.cols)] for i in range(self.rows)]\n",
        "      n = self.rows\n",
        "      det = 1\n",
        "\n",
        "      for i in range(n):\n",
        "\n",
        "          x = i\n",
        "          if m[i][i] == 0:\n",
        "              flag = True\n",
        "              for y in range(i + 1, n):\n",
        "                  if m[y][i] != 0:\n",
        "                      flag = False\n",
        "                      x = y\n",
        "                      break\n",
        "              if flag:\n",
        "                  return 0\n",
        "              else:\n",
        "                  m[i], m[x] = m[x], m[i]\n",
        "                  det *= -1\n",
        "\n",
        "          det *= m[i][i]\n",
        "          for j in range(i + 1, n):\n",
        "              factor = m[j][i] / m[i][i]\n",
        "              for k in range(i, n):\n",
        "                  m[j][k] -= factor * m[i][k]\n",
        "\n",
        "      return det\n",
        "\n",
        "    def corner_det(self, n):\n",
        "      minor_data = [[self.data[i][j] for j in range(n)] for i in range(n)]\n",
        "      minor = Matrix(n, n, minor_data)\n",
        "\n",
        "      return minor.det()\n",
        "\n",
        "    def __str__(self):\n",
        "        return '\\n'.join([' '.join(map(str, row)) for row in self.data])\n"
      ]
    },
    {
      "cell_type": "code",
      "source": [
        "def adaptive_pivot(A):\n",
        "    max_abs = max(abs(x) for row in A.data for x in row)\n",
        "    return max(1e-12, 1e-3 * max_abs)"
      ],
      "metadata": {
        "id": "qoQQwZIbWxOd"
      },
      "execution_count": 311,
      "outputs": []
    },
    {
      "cell_type": "code",
      "source": [
        "def gauss_solver(A: Matrix, b: Matrix) -> list[Matrix]:\n",
        "    EPS = 1e-12\n",
        "    PIVOT_TOL = adaptive_pivot(A)\n",
        "\n",
        "    if not A.data or not b.data:\n",
        "        raise ValueError(\"Матрица пуста\")\n",
        "\n",
        "    if A.rows != A.cols:\n",
        "        raise ValueError(\"Матрица должна быть квадратной\")\n",
        "\n",
        "    if A.rows != b.rows or b.cols != 1:\n",
        "        raise ValueError(\"Несоответствие размеров матрицы и вектора\")\n",
        "\n",
        "    n = A.rows\n",
        "    A = [row.copy() for row in A.data]\n",
        "    b = [row.copy() for row in b.data]\n",
        "\n",
        "    lead = 0\n",
        "    rank = 0\n",
        "\n",
        "    for r in range(n):\n",
        "        if lead >= n:\n",
        "            break\n",
        "\n",
        "        i = r\n",
        "        while abs(A[i][lead]) <= EPS:\n",
        "            i += 1\n",
        "            if i == n:\n",
        "                i = r\n",
        "                lead += 1\n",
        "                if n == lead:\n",
        "                    break\n",
        "\n",
        "        if lead >= n:\n",
        "            break\n",
        "\n",
        "        A[i], A[r] = A[r], A[i]\n",
        "        b[i], b[r] = b[r], b[i]\n",
        "\n",
        "        pivot = A[r][lead]\n",
        "        if abs(pivot) > PIVOT_TOL:\n",
        "            for j in range(lead, n):\n",
        "                A[r][j] /= pivot\n",
        "            b[r][0] /= pivot\n",
        "\n",
        "            for k in range(n):\n",
        "                if k != r and abs(A[k][lead]) > EPS:\n",
        "                    factor = A[k][lead]\n",
        "                    for j in range(lead, n):\n",
        "                        A[k][j] -= factor * A[r][j]\n",
        "                    b[k][0] -= factor * b[r][0]\n",
        "\n",
        "            lead += 1\n",
        "            rank += 1\n",
        "\n",
        "    for i in range(rank, n):\n",
        "        if abs(b[i][0]) > EPS:\n",
        "            raise ValueError(\"Система несовместна\")\n",
        "\n",
        "    basis = []\n",
        "    free_vars = [True] * n\n",
        "\n",
        "    for i in range(rank):\n",
        "        for j in range(n):\n",
        "            if abs(A[i][j] - 1) <= EPS:\n",
        "                free_vars[j] = False\n",
        "                break\n",
        "\n",
        "    for j in range(n):\n",
        "        if free_vars[j]:\n",
        "            vec = [0.0] * n\n",
        "            vec[j] = 1.0\n",
        "\n",
        "            for i in range(rank):\n",
        "                for k in range(n):\n",
        "                    if abs(A[i][k] - 1) <= EPS:\n",
        "                        vec[k] = -A[i][j]\n",
        "                        break\n",
        "\n",
        "            basis.append(vec)\n",
        "\n",
        "    return [Matrix(n, 1, [[x] for x in vec]) for vec in basis]"
      ],
      "metadata": {
        "id": "yd4jsgQhxoee"
      },
      "execution_count": 312,
      "outputs": []
    },
    {
      "cell_type": "code",
      "source": [
        "data = [[0.008334716019305306, 2.44530303030303, -0.412676767676766], [2.44530303030303, 885.2208650190495, 110.87626262626263], [-0.412676767676766, 110.87626262626263, 341.0471276453123]]\n",
        "X = Matrix(3,3,data)\n",
        "b = Matrix(3,1,[[0], [0], [0]])\n",
        "res = gauss_solver(X, b)\n",
        "print(*res)"
      ],
      "metadata": {
        "colab": {
          "base_uri": "https://localhost:8080/"
        },
        "id": "uyJ5qpkhLU0R",
        "outputId": "403b3953-41d3-4801-fde8-69e57c439be1"
      },
      "execution_count": 313,
      "outputs": [
        {
          "output_type": "stream",
          "name": "stdout",
          "text": [
            "-0.0\n",
            "1.0\n",
            "0.0 455.04720220761504\n",
            "0.0\n",
            "1.0\n"
          ]
        }
      ]
    },
    {
      "cell_type": "code",
      "source": [
        "A = Matrix(3,3,[\n",
        "    [1, 2, 3],\n",
        "    [1, 2, 3],\n",
        "    [7, 8, 9]\n",
        "])\n",
        "b = Matrix(3,1,[[1], [1], [3]])\n",
        "res = gauss_solver(A, b)\n",
        "print(*res)\n",
        "\n",
        "B = Matrix(2,2,[[0.7015621066093445, 2.0],\n",
        "[2.0, 5.7015621066093445]])\n",
        "a = Matrix(2,1,[[0],[0]])\n",
        "r = gauss_solver(B, a)\n",
        "print(*r)"
      ],
      "metadata": {
        "colab": {
          "base_uri": "https://localhost:8080/"
        },
        "id": "nZLaDFZIQArE",
        "outputId": "4010c405-9ec6-4a62-e82a-60a47d03087b"
      },
      "execution_count": 314,
      "outputs": [
        {
          "output_type": "stream",
          "name": "stdout",
          "text": [
            "1.0\n",
            "-2.0\n",
            "1.0\n",
            "-2.8507811085550454\n",
            "1.0\n"
          ]
        }
      ]
    },
    {
      "cell_type": "code",
      "source": [
        "def center_data(X: Matrix) -> Matrix:\n",
        "  \"\"\"\n",
        "  Вход: матрица данных X (n×m)\n",
        "  Выход: центрированная матрица X_centered (n×m)\n",
        "  \"\"\"\n",
        "  cols = X.cols\n",
        "  rows = X.rows\n",
        "  Centered_X = Matrix(rows, cols)\n",
        "  Centered_X.data = [row.copy() for row in X.data]\n",
        "\n",
        "  means = [sum(X.get_column(i)) / rows for i in range(cols)]\n",
        "\n",
        "  for row in range(rows):\n",
        "    for col in range(cols):\n",
        "      Centered_X.data[row][col] -= means[col]\n",
        "\n",
        "  return Centered_X\n",
        "\n",
        "X = Matrix(3,3, [[1,2,3],[1,3,5],[1,4,6]])\n",
        "print(center_data(X))"
      ],
      "metadata": {
        "colab": {
          "base_uri": "https://localhost:8080/"
        },
        "id": "8mTi-2ZiQrT3",
        "outputId": "9eff68b7-5dd8-4101-9c6b-18cd8b4652e1"
      },
      "execution_count": 315,
      "outputs": [
        {
          "output_type": "stream",
          "name": "stdout",
          "text": [
            "0.0 -1.0 -1.666666666666667\n",
            "0.0 0.0 0.33333333333333304\n",
            "0.0 1.0 1.333333333333333\n"
          ]
        }
      ]
    },
    {
      "cell_type": "code",
      "source": [
        "def T(X: Matrix) -> Matrix:\n",
        "  cols = X.cols\n",
        "  rows = X.rows\n",
        "  X_T = Matrix(cols, rows)\n",
        "  for row in range(rows):\n",
        "    for col in range(cols):\n",
        "      X_T.data[col][row] = X.data[row][col]\n",
        "\n",
        "  return X_T\n",
        "\n",
        "X = Matrix(3,3, [[1,2,3],[1,3,5],[1,4,6]])\n",
        "print(T(X))"
      ],
      "metadata": {
        "id": "BznP1rM-WJ2C",
        "colab": {
          "base_uri": "https://localhost:8080/"
        },
        "outputId": "ab872901-7dd6-417f-cc2d-23cf7915cb31"
      },
      "execution_count": 316,
      "outputs": [
        {
          "output_type": "stream",
          "name": "stdout",
          "text": [
            "1 1 1\n",
            "2 3 4\n",
            "3 5 6\n"
          ]
        }
      ]
    },
    {
      "cell_type": "code",
      "source": [
        "def covariance_matrix(X_centered: Matrix) -> Matrix:\n",
        "  \"\"\"\n",
        "  Вход: центрированная матрица X_centered (n×m)\n",
        "  Выход: матрица ковариаций C (m×m)\n",
        "  \"\"\"\n",
        "  cols = X_centered.cols\n",
        "  rows = X_centered.rows\n",
        "  E = T(X_centered).mult(X_centered).increase(1/(rows - 1))\n",
        "\n",
        "  return E\n",
        "\n",
        "X = Matrix(3,3, [[1,2,3],[1,3,5],[1,4,6]])\n",
        "cov_matrix = covariance_matrix(center_data(X))"
      ],
      "metadata": {
        "id": "GhprTkTIV79_"
      },
      "execution_count": 317,
      "outputs": []
    },
    {
      "cell_type": "code",
      "source": [
        "def sturm_sequence(A: Matrix, lambd: float):\n",
        "    n = A.rows\n",
        "    A_l = Matrix(n, A.cols)\n",
        "\n",
        "    for i in range(n):\n",
        "      for j in range(A.cols):\n",
        "          A_l.data[i][j] = A.data[i][j]\n",
        "      A_l.data[i][i] -= lambd\n",
        "\n",
        "    D = [1, A_l.data[0][0]]\n",
        "    for i in range(2, n + 1):\n",
        "      D.append(A_l.corner_det(i))\n",
        "\n",
        "    return D\n",
        "\n",
        "def count_sign_changes(sequence):\n",
        "    count = 0\n",
        "    for i in range(1, len(sequence)):\n",
        "        if sequence[i-1]*sequence[i] < 0:\n",
        "            count += 1\n",
        "    return count\n",
        "\n",
        "def bisection_eigenvalues(A, a, b, epsilon=1e-6, max_depth=100):\n",
        "    eigenvalues = []\n",
        "\n",
        "    def bisect(a, b, depth=0):\n",
        "        nonlocal eigenvalues\n",
        "\n",
        "        if depth > max_depth:\n",
        "            return\n",
        "\n",
        "        s_a = count_sign_changes(sturm_sequence(A, a))\n",
        "        s_b = count_sign_changes(sturm_sequence(A, b))\n",
        "\n",
        "\n",
        "        n_eigen = abs(s_b - s_a)\n",
        "\n",
        "        if n_eigen == 0:\n",
        "            return\n",
        "        elif n_eigen == 1:\n",
        "            while b - a > epsilon:\n",
        "                mid = (a + b)/2\n",
        "                s_mid = count_sign_changes(sturm_sequence(A, mid))\n",
        "                if s_mid - s_a == 0:\n",
        "                    a = mid\n",
        "                else:\n",
        "                    b = mid\n",
        "            eigenvalues.append((a + b)/2)\n",
        "        else:\n",
        "            mid = (a + b)/2\n",
        "            bisect(a, mid, depth+1)\n",
        "            bisect(mid, b, depth+1)\n",
        "\n",
        "    bisect(a, b)\n",
        "    return sorted(eigenvalues)"
      ],
      "metadata": {
        "id": "TjlBhj05Xk-9"
      },
      "execution_count": 318,
      "outputs": []
    },
    {
      "cell_type": "code",
      "source": [
        "X = Matrix(3,3, [[0.04959090909090908, 2.44530303030303, -0.412676767676766], [2.44530303030303, 885.2621212121211, 110.87626262626263], [-0.412676767676766, 110.87626262626263, 341.0883838383839]])\n",
        "bisection_eigenvalues(X, 0, 1000)\n"
      ],
      "metadata": {
        "colab": {
          "base_uri": "https://localhost:8080/"
        },
        "id": "P4EHiJSxxqE4",
        "outputId": "07175904-d78c-4bbd-db1b-52511c5e5243"
      },
      "execution_count": 319,
      "outputs": [
        {
          "output_type": "execute_result",
          "data": {
            "text/plain": [
              "[0.041256193071603775, 319.3668113090098, 906.9920289330184]"
            ]
          },
          "metadata": {},
          "execution_count": 319
        }
      ]
    },
    {
      "cell_type": "code",
      "source": [
        "def find_eigenvectors(C: Matrix, eigenvalues: list[float]) -> list[Matrix]:\n",
        "    \"\"\"\n",
        "    Вход:\n",
        "    C: матрица ковариаций (m×m)\n",
        "    eigenvalues: список собственных значений\n",
        "    Выход: список собственных векторов (каждый вектор - объект Matrix)\n",
        "    \"\"\"\n",
        "    n = C.rows\n",
        "    eigenvectors = []\n",
        "\n",
        "    I = Matrix(n, n)\n",
        "    for i in range(n):\n",
        "        I.data[i][i] = 1\n",
        "\n",
        "    Z = Matrix(n, 1)\n",
        "\n",
        "    for l in eigenvalues:\n",
        "        C_minus_lambda = C.sum(I.increase(-l))\n",
        "\n",
        "        null_space_basis = gauss_solver(C_minus_lambda, Z)\n",
        "\n",
        "        for vec in null_space_basis:\n",
        "            sum_squares = 0\n",
        "            for j in range(n):\n",
        "                sum_squares += (vec.data[j][0])**2\n",
        "\n",
        "            norm_factor = 1 / (sum_squares**0.5)\n",
        "            eigenvectors.append(vec.increase(norm_factor))\n",
        "\n",
        "    return eigenvectors\n",
        "\n",
        "M = Matrix(3,3, [[0,-0.42,-0.64],[0,0.083,0.11],[0,0.33,0.53]])\n",
        "eigenvalues = bisection_eigenvalues(X, 0, 1000)\n",
        "\n",
        "eigenvectors = find_eigenvectors(X, eigenvalues)\n",
        "for eigenvector in eigenvectors:\n",
        "  print(eigenvector, \"\\n\")\n"
      ],
      "metadata": {
        "id": "QQ45eSOCRUoE",
        "colab": {
          "base_uri": "https://localhost:8080/"
        },
        "outputId": "41aa5513-bdb6-4eaa-eb41-7c7ee991f3ac"
      },
      "execution_count": 320,
      "outputs": [
        {
          "output_type": "stream",
          "name": "stdout",
          "text": [
            "-0.0\n",
            "1.0\n",
            "0.0 \n",
            "\n",
            "0.9999975853425218\n",
            "0.0\n",
            "0.0021975689126120007 \n",
            "\n",
            "-0.002740587231737273\n",
            "-0.1922627220451706\n",
            "0.9813396633650383 \n",
            "\n",
            "0.0025584043492799524\n",
            "0.9813387889809692\n",
            "0.19226969550230927 \n",
            "\n"
          ]
        }
      ]
    },
    {
      "cell_type": "code",
      "source": [
        "def explained_variance_ratio(eigenvalues: list[float], k: int) -> float:\n",
        "    \"\"\"\n",
        "    Вход:\n",
        "    eigenvalues: список собственных значений\n",
        "    k: число компонент\n",
        "    Выход: доля объяснённой дисперсии\n",
        "    \"\"\"\n",
        "    if sum(eigenvalues) != 0:\n",
        "      return sum(eigenvalues[:k]) / sum(eigenvalues)\n",
        "    else:\n",
        "      return 1\n",
        "\n",
        "def full_explained_variance_ratio(eigenvalues: list[float]) -> list[float]:\n",
        "  e_v_sum = sum(eigenvalues)\n",
        "  return [value / e_v_sum for value in eigenvalues]"
      ],
      "metadata": {
        "id": "VWOazT9-TfVE"
      },
      "execution_count": 321,
      "outputs": []
    },
    {
      "cell_type": "code",
      "source": [
        "def handle_missing_values(X: Matrix) -> Matrix:\n",
        "    \"\"\"\n",
        "    Вход: матрица данных X (n*m) с возможными NaN\n",
        "    Выход: матрица данный X_filled (n*m) без NaN\n",
        "    \"\"\"\n",
        "    import math\n",
        "\n",
        "    rows = X.rows\n",
        "    cols = X.cols\n",
        "\n",
        "\n",
        "    X_filled = Matrix(rows, cols)\n",
        "    for i in range(rows):\n",
        "        for j in range(cols):\n",
        "            X_filled.data[i][j] = X.data[i][j]\n",
        "\n",
        "    for j in range(cols):\n",
        "        column = X.get_column(j)\n",
        "        valid_values = [value for value in column if not math.isnan(value)]\n",
        "\n",
        "        if not valid_values:\n",
        "            mean_value = 0.0\n",
        "        else:\n",
        "            mean_value = sum(valid_values) / len(valid_values)\n",
        "\n",
        "        for i in range(rows):\n",
        "            if math.isnan(X_filled.data[i][j]):\n",
        "                X_filled.data[i][j] = mean_value\n",
        "\n",
        "    return X_filled"
      ],
      "metadata": {
        "id": "ilIAj1E3ac8Z"
      },
      "execution_count": 322,
      "outputs": []
    },
    {
      "cell_type": "code",
      "source": [
        "def project_data(X: Matrix, components: list) -> Matrix:\n",
        "    \"\"\"Проецирование данных на главные компоненты.\"\"\"\n",
        "    rows = X.rows\n",
        "    cols = X.cols\n",
        "    k = len(components)\n",
        "\n",
        "    projected = Matrix(rows, k)\n",
        "\n",
        "    for i in range(rows):\n",
        "        for j in range(k):\n",
        "            projected.data[i][j] = sum(X.data[i][l] * components[j].data[l][0] for l in range(cols))\n",
        "\n",
        "    return projected"
      ],
      "metadata": {
        "id": "kiXBZLtlYHmX"
      },
      "execution_count": 323,
      "outputs": []
    },
    {
      "cell_type": "code",
      "source": [
        "def pca(X: Matrix, k: int, with_threshold: bool = False, threshold: float = 0.95, with_full_e_v_r: bool = False) -> tuple[Matrix, float or list[float]]:\n",
        "    \"\"\"\n",
        "    Вход:\n",
        "    X: матрица данных (n×m)\n",
        "    k: число главных компонент\n",
        "    Выход:\n",
        "    X_proj: проекция данных (n×k)\n",
        "    : доля объяснённой дисперсии\n",
        "    \"\"\"\n",
        "    X_centered = center_data(X)\n",
        "\n",
        "    cov_matrix = covariance_matrix(X_centered)\n",
        "\n",
        "    eigenvalues = bisection_eigenvalues(cov_matrix, -1, 10000)[::-1]\n",
        "    eigenvectors = find_eigenvectors(cov_matrix, eigenvalues)\n",
        "\n",
        "    if with_threshold:\n",
        "      sum_eigenvalues = sum(eigenvalues)\n",
        "      holder = 0\n",
        "      i = 0\n",
        "\n",
        "      while holder < threshold:\n",
        "        holder += eigenvalues[i] / sum_eigenvalues\n",
        "        i += 1\n",
        "      k = i\n",
        "\n",
        "    top_k_eigenvectors = eigenvectors[:k]\n",
        "\n",
        "    projected_data = project_data(X_centered, top_k_eigenvectors)\n",
        "\n",
        "    if with_full_e_v_r:\n",
        "      e_v_r_data = full_explained_variance_ratio(eigenvalues)\n",
        "      return projected_data, e_v_r_data\n",
        "\n",
        "    explained_variance = explained_variance_ratio(eigenvalues, k)\n",
        "\n",
        "    return projected_data, explained_variance\n",
        "\n",
        "\n",
        "X = Matrix(3,3, [[1,2,3],[1,3,5],[1,4,6]])\n",
        "t = pca(X, 2, with_threshold=True, threshold=0.99999)\n",
        "print(t[0], '\\n')\n",
        "print(t[1])"
      ],
      "metadata": {
        "id": "Wzt9IN22VIHL",
        "colab": {
          "base_uri": "https://localhost:8080/"
        },
        "outputId": "f5f4c64b-cdf7-4fcf-8790-fe0a493ac129"
      },
      "execution_count": 324,
      "outputs": [
        {
          "output_type": "stream",
          "name": "stdout",
          "text": [
            "-1.9424006064039867 -0.06969701245541449\n",
            "0.2794974189033344 0.18163784919376996\n",
            "1.6629031875006515 -0.11194083673835586 \n",
            "\n",
            "0.9999999365856709\n"
          ]
        }
      ]
    },
    {
      "cell_type": "code",
      "source": [
        "from sklearn.decomposition import PCA\n",
        "\n",
        "X = [[1,2,3],[1,3,5],[1,4,6]]\n",
        "\n",
        "Pca = PCA(n_components=3)\n",
        "X_pca = Pca.fit_transform(X)\n",
        "\n",
        "print(\"Преобразованные данные:\\n\", X_pca)\n",
        "print(\"Объясненная дисперсия:\", Pca.explained_variance_ratio_)"
      ],
      "metadata": {
        "colab": {
          "base_uri": "https://localhost:8080/"
        },
        "id": "HE8dMiuwJpK5",
        "outputId": "d7c3bed2-b74c-4a0c-db21-7e99551c70f6"
      },
      "execution_count": 325,
      "outputs": [
        {
          "output_type": "stream",
          "name": "stdout",
          "text": [
            "Преобразованные данные:\n",
            " [[-1.9424006   0.069697    0.        ]\n",
            " [ 0.27949741 -0.18163785  0.        ]\n",
            " [ 1.66290319  0.11194085  0.        ]]\n",
            "Объясненная дисперсия: [0.99244289 0.00755711 0.        ]\n"
          ]
        }
      ]
    },
    {
      "cell_type": "code",
      "source": [
        "from matplotlib.figure import Figure\n",
        "import matplotlib.pyplot as plt\n",
        "\n",
        "def plot_pca_projection(X_proj: Matrix, show_lines=True) -> Figure:\n",
        "    \"\"\"\n",
        "    Вход:\n",
        "      - X_proj: проекция данных (n×2)\n",
        "      - show_lines: если True, рисует отрезки проекции\n",
        "    Выход: объект Figure\n",
        "    \"\"\"\n",
        "    fig = Figure(figsize=(8, 8))\n",
        "    ax = fig.add_subplot(111)\n",
        "\n",
        "    x = [row[0] for row in X_proj.data]\n",
        "    y = [row[1] for row in X_proj.data]\n",
        "\n",
        "    ax.scatter(x, y, alpha=0.7, edgecolors='k', s=80, label='Projected Points')\n",
        "\n",
        "    if show_lines:\n",
        "        for xi, yi in zip(x, y):\n",
        "            ax.plot([0, xi], [0, yi], 'r--', alpha=0.4, lw=1)\n",
        "\n",
        "        ax.scatter([0], [0], c='red', s=100, marker='+', label='Center')\n",
        "\n",
        "    ax.set_title('PCA Projection')\n",
        "    ax.set_xlabel('Component 1')\n",
        "    ax.set_ylabel('Component 2')\n",
        "    ax.axhline(0, color='gray', lw=0.5)\n",
        "    ax.axvline(0, color='gray', lw=0.5)\n",
        "    ax.grid(True, linestyle='--', alpha=0.6)\n",
        "    ax.legend()\n",
        "\n",
        "    return fig"
      ],
      "metadata": {
        "id": "6lrm1wzyYzUx"
      },
      "execution_count": 326,
      "outputs": []
    },
    {
      "cell_type": "code",
      "source": [
        "projected_data = t[0]\n",
        "\n",
        "fig = plot_pca_projection(projected_data)\n",
        "fig"
      ],
      "metadata": {
        "id": "RfJazP9EZy2W",
        "colab": {
          "base_uri": "https://localhost:8080/",
          "height": 718
        },
        "outputId": "d5a97f25-3dcc-4deb-db2b-d490842ad28f"
      },
      "execution_count": 334,
      "outputs": [
        {
          "output_type": "execute_result",
          "data": {
            "text/plain": [
              "<Figure size 800x800 with 1 Axes>"
            ],
            "image/png": "[encoded data removed]"
          },
          "metadata": {},
          "execution_count": 334
        }
      ]
    },
    {
      "cell_type": "code",
      "source": [
        "def reconstruction_error(X_orig: Matrix, X_recon: Matrix) -> float:\n",
        "    \"\"\"\n",
        "    Вход:\n",
        "    X_orig: исходные данные (n×m)\n",
        "    X_recon: восстановленные данные (n×m)\n",
        "    Выход: среднеквадратическая ошибка MSE\n",
        "    \"\"\"\n",
        "    n = X_orig.rows\n",
        "    m = X_orig.cols\n",
        "    total_squared_error = 0.0\n",
        "\n",
        "    for i in range(n):\n",
        "        for j in range(m):\n",
        "            total_squared_error += (X_orig.data[i][j] - X_recon.data[i][j]) ** 2\n",
        "\n",
        "    return total_squared_error / (n * m)\n",
        "\n",
        "\n",
        "\n",
        "X = Matrix(3,3, [[1,2,3],[1,3,5],[1,4,6]])\n",
        "t = pca(X, 3)\n",
        "print(reconstruction_error(X, t[0]))"
      ],
      "metadata": {
        "id": "TLxinNNZaV0J",
        "colab": {
          "base_uri": "https://localhost:8080/"
        },
        "outputId": "2c48592a-1f4b-4587-f2bc-99afd560564a"
      },
      "execution_count": 329,
      "outputs": [
        {
          "output_type": "stream",
          "name": "stdout",
          "text": [
            "12.083461590581395\n"
          ]
        }
      ]
    },
    {
      "cell_type": "code",
      "source": [
        "def add_noise_and_compare(X: 'Matrix', noise_level: float = 0.1, k: int = None, explained_variance_threshold: float = 0.95):\n",
        "    min_vals = [float('inf')] * X.cols\n",
        "    max_vals = [float('-inf')] * X.cols\n",
        "\n",
        "    for j in range(X.cols):\n",
        "        for i in range(X.rows):\n",
        "            min_vals[j] = min(min_vals[j], X.data[i][j])\n",
        "            max_vals[j] = max(max_vals[j], X.data[i][j])\n",
        "\n",
        "    X_noisy = Matrix(X.rows, X.cols)\n",
        "\n",
        "    for j in range(X.cols):\n",
        "        data_range = max_vals[j] - min_vals[j]\n",
        "        noise_std = data_range * noise_level\n",
        "\n",
        "        for i in range(X.rows):\n",
        "            noise = random.gauss(0, noise_std)\n",
        "            X_noisy.data[i][j] = X.data[i][j] + noise\n",
        "\n",
        "    original_projected, original_variance = pca(\n",
        "        X, k)\n",
        "\n",
        "    noisy_projected, noisy_variance = pca(\n",
        "        X_noisy, k)\n",
        "\n",
        "    original_centered = center_data(X)\n",
        "    noisy_centered = center_data(X_noisy)\n",
        "\n",
        "    original_cov = covariance_matrix(original_centered)\n",
        "    noisy_cov = covariance_matrix(noisy_centered)\n",
        "\n",
        "    original_eigenvalues = bisection_eigenvalues(original_cov, -1, 10000)[::-1]\n",
        "    noisy_eigenvalues = bisection_eigenvalues(noisy_cov, -1, 10000)[::-1]\n",
        "\n",
        "    mse = reconstruction_error(X, X_noisy)\n",
        "\n",
        "    results = {\n",
        "        \"Исходные данные\": {\n",
        "            \"Проекция\": original_projected,\n",
        "            \"Объясненная дисперсия\": original_variance,\n",
        "            \"Собственные значения\": original_eigenvalues[:min(5, len(original_eigenvalues))]\n",
        "        },\n",
        "        \"Зашумленные данные\": {\n",
        "            \"Проекция\": noisy_projected,\n",
        "            \"Объясненная дисперсия\": noisy_variance,\n",
        "            \"Собственные значения\": noisy_eigenvalues[:min(5, len(noisy_eigenvalues))]\n",
        "        },\n",
        "        \"Сравнение\": {\n",
        "            \"MSE между исходными и зашумленными данными\": mse,\n",
        "            \"Разница в объясненной дисперсии\": noisy_variance - original_variance\n",
        "        }\n",
        "    }\n",
        "\n",
        "    return results"
      ],
      "metadata": {
        "id": "ty327Jy_b-sg"
      },
      "execution_count": 330,
      "outputs": []
    },
    {
      "cell_type": "code",
      "source": [
        "def print_noise_comparison_results(results):\n",
        "    print(\"=\" * 50)\n",
        "    print(\"СРАВНЕНИЕ PCA ДО И ПОСЛЕ ДОБАВЛЕНИЯ ШУМА\")\n",
        "    print(\"=\" * 50)\n",
        "\n",
        "    print(\"\\nИСХОДНЫЕ ДАННЫЕ:\")\n",
        "    print(\"-\" * 30)\n",
        "    print(f\"Объясненная дисперсия: {results['Исходные данные']['Объясненная дисперсия']:.4f}\")\n",
        "    print(\"Собственные значения (топ-5):\", [round(val, 4) for val in results['Исходные данные']['Собственные значения']])\n",
        "    print(\"\\nПроекция данных:\")\n",
        "    print(results['Исходные данные']['Проекция'])\n",
        "    # orig_plot = plot_pca_projection(results['Исходные данные']['Проекция'])\n",
        "    # print(orig_plot)\n",
        "\n",
        "    print(\"\\nЗАШУМЛЕННЫЕ ДАННЫЕ:\")\n",
        "    print(\"-\" * 30)\n",
        "    print(f\"Объясненная дисперсия: {results['Зашумленные данные']['Объясненная дисперсия']:.4f}\")\n",
        "    print(\"Собственные значения (топ-5):\", [round(val, 4) for val in results['Зашумленные данные']['Собственные значения']])\n",
        "    print(\"\\nПроекция данных:\")\n",
        "    print(results['Зашумленные данные']['Проекция'])\n",
        "    # plot_pca_projection(results['Зашумленные данные']['Проекция'])\n",
        "    # noisy_plot = plot_pca_projection(results['Зашумленные данные']['Проекция'])\n",
        "\n",
        "\n",
        "    print(\"\\nРЕЗУЛЬТАТЫ СРАВНЕНИЯ:\")\n",
        "    print(\"-\" * 30)\n",
        "    print(f\"MSE между исходными и зашумленными данными: {results['Сравнение']['MSE между исходными и зашумленными данными']:.6f}\")\n",
        "    print(f\"Разница в объясненной дисперсии: {results['Сравнение']['Разница в объясненной дисперсии']:.6f}\")\n",
        "\n",
        "    if results['Сравнение']['Разница в объясненной дисперсии'] > 0:\n",
        "        print(\"Шум увеличил объясненную дисперсию.\")\n",
        "    elif results['Сравнение']['Разница в объясненной дисперсии'] < 0:\n",
        "        print(\"Шум уменьшил объясненную дисперсию.\")\n",
        "    else:\n",
        "        print(\"Шум не повлиял на объясненную дисперсию.\")\n",
        "\n",
        "    print(\"=\" * 50)"
      ],
      "metadata": {
        "id": "pEKSV12ScRPt"
      },
      "execution_count": 331,
      "outputs": []
    },
    {
      "cell_type": "code",
      "source": [
        "X = Matrix(3,3, [[1,2,3],[1,3,5],[1,4,6]])\n",
        "comparison_results = add_noise_and_compare(X, 0.2, 2)\n",
        "print_noise_comparison_results(comparison_results)"
      ],
      "metadata": {
        "colab": {
          "base_uri": "https://localhost:8080/"
        },
        "id": "P9oKrYhhcVpX",
        "outputId": "e6677bf7-2ae2-4cfe-e669-acc0168a59cc"
      },
      "execution_count": 332,
      "outputs": [
        {
          "output_type": "stream",
          "name": "stdout",
          "text": [
            "==================================================\n",
            "СРАВНЕНИЕ PCA ДО И ПОСЛЕ ДОБАВЛЕНИЯ ШУМА\n",
            "==================================================\n",
            "\n",
            "ИСХОДНЫЕ ДАННЫЕ:\n",
            "------------------------------\n",
            "Объясненная дисперсия: 1.0000\n",
            "Собственные значения (топ-5): [3.3081, 0.0252, 0.0]\n",
            "\n",
            "Проекция данных:\n",
            "-1.9424006064039867 -0.06969701245541449\n",
            "0.2794974189033344 0.18163784919376996\n",
            "1.6629031875006515 -0.11194083673835586\n",
            "\n",
            "ЗАШУМЛЕННЫЕ ДАННЫЕ:\n",
            "------------------------------\n",
            "Объясненная дисперсия: 1.0000\n",
            "Собственные значения (топ-5): [2.9308, 0.0061, 0.0]\n",
            "\n",
            "Проекция данных:\n",
            "-1.841830907272775 -0.032814164140005486\n",
            "0.2991563802293301 0.08931086382368264\n",
            "1.542674527043447 -0.05649669968367643\n",
            "\n",
            "РЕЗУЛЬТАТЫ СРАВНЕНИЯ:\n",
            "------------------------------\n",
            "MSE между исходными и зашумленными данными: 0.110584\n",
            "Разница в объясненной дисперсии: -0.000000\n",
            "Шум уменьшил объясненную дисперсию.\n",
            "==================================================\n"
          ]
        }
      ]
    },
    {
      "cell_type": "code",
      "source": [
        "import kagglehub\n",
        "import pandas as pd\n",
        "from kagglehub import KaggleDatasetAdapter\n",
        "\n",
        "file_path = \"movies.csv\"\n",
        "\n",
        "df = kagglehub.load_dataset(\n",
        "  KaggleDatasetAdapter.PANDAS,\n",
        "  \"allubie/imdbs-top-44-movies\",\n",
        "  file_path,\n",
        ")\n",
        "\n",
        "df = df[['Rating', 'Runtime (minutes)', 'Year']]\n",
        "data = df.values.tolist()\n",
        "X = Matrix(len(data), len(data[0]), data)\n",
        "t = pca(X, X.rows, with_full_e_v_r=True)\n",
        "print(\"Объясненная дисперсия:\", t[1])\n",
        "print(reconstruction_error(X, t[0]))\n",
        "\n",
        "\n",
        "\n",
        "\n",
        "Pca = PCA(n_components=3)\n",
        "X_pca = Pca.fit_transform(data)\n",
        "X_pca_m = Matrix(len(X_pca), len(X_pca[0]), X_pca)\n",
        "\n",
        "print(\"Объясненная дисперсия:\", Pca.explained_variance_ratio_)\n",
        "print(reconstruction_error(X, X_pca_m))\n",
        "\n",
        "\n",
        "comparison_results = add_noise_and_compare(X, 0.1, 2)\n",
        "print_noise_comparison_results(comparison_results)"
      ],
      "metadata": {
        "colab": {
          "base_uri": "https://localhost:8080/"
        },
        "id": "e6GF1JLIgv0Z",
        "outputId": "a3a7af32-c6b7-4a07-c53f-5b643ad826cc"
      },
      "execution_count": 333,
      "outputs": [
        {
          "output_type": "stream",
          "name": "stderr",
          "text": [
            "<ipython-input-333-a97de3846f69>:7: DeprecationWarning: load_dataset is deprecated and will be removed in a future version.\n",
            "  df = kagglehub.load_dataset(\n"
          ]
        },
        {
          "output_type": "stream",
          "name": "stdout",
          "text": [
            "Объясненная дисперсия: [0.7395563910857537, 0.2604099690430782, 3.363987116817163e-05]\n",
            "1329721.3743849343\n",
            "Объясненная дисперсия: [7.39556391e-01 2.60409969e-01 3.36400230e-05]\n",
            "1329495.1919345357\n",
            "==================================================\n",
            "СРАВНЕНИЕ PCA ДО И ПОСЛЕ ДОБАВЛЕНИЯ ШУМА\n",
            "==================================================\n",
            "\n",
            "ИСХОДНЫЕ ДАННЫЕ:\n",
            "------------------------------\n",
            "Объясненная дисперсия: 1.0000\n",
            "Собственные значения (топ-5): [949.1777, 334.2211, 0.0432]\n",
            "\n",
            "Проекция данных:\n",
            "2.3738111364814554 2.0577670088140207\n",
            "30.527802080089153 -25.876101350432382\n",
            "14.878207221408928 13.874717253220425\n",
            "-49.88277520406543 -25.406619093312393\n",
            "54.191473914714656 -9.112400681514792\n",
            "62.002203588519535 -0.45258037915022875\n",
            "14.148853246536582 -0.2482894193489158\n",
            "15.634417505175978 -29.071364988975137\n",
            "39.046616206227824 2.0070569569863563\n",
            "0.38986403531026226 7.542623785141619\n",
            "2.372531934305691 2.0591373024310546\n",
            "11.336879770854779 16.606995585131326\n",
            "40.21996884889968 2.796407957177668\n",
            "-17.98359782689289 -8.218614931710677\n",
            "-2.5544081730738255 8.119686009629167\n",
            "5.52855247597298 -2.634998180088198\n",
            "-10.11289719199959 -14.85567774594952\n",
            "58.46825380736759 -49.69097804058323\n",
            "-12.15579189251859 5.924965912087857\n",
            "-7.865887668034746 12.217555390048709\n",
            "-21.756919771528196 3.729971755823142\n",
            "-19.614329309630325 -42.54520303782985\n",
            "-22.565979187416612 10.002535180001612\n",
            "-32.76416230859628 9.96275713116025\n",
            "-29.03107684512174 8.212366580085444\n",
            "29.636990499703447 0.7942246402811453\n",
            "-12.965107148842156 12.197803394989732\n",
            "-19.429948966112132 10.40736073635016\n",
            "32.713305600354666 16.4956592545097\n",
            "49.45603597982038 -2.0696901347571766\n",
            "28.403155215072868 15.302304874140058\n",
            "27.421816425756557 15.494567596061437\n",
            "-29.111293967008113 28.608484794280066\n",
            "-7.0973205737422465 16.14346216105266\n",
            "-24.933698154863748 13.523890453380417\n",
            "13.510794001900297 12.105945000703676\n",
            "16.282530996421336 5.448856132682446\n",
            "-24.873727193775334 -1.7729926632229907\n",
            "-26.624144758254452 -5.506088594858749\n",
            "-38.11562244428281 24.258548589315403\n",
            "-37.491199212347745 -34.96630455031967\n",
            "-62.753767079692736 -44.28301723357791\n",
            "-50.62078605051574 12.442420521079217\n",
            "11.760376437421183 8.372849069067916\n",
            "\n",
            "ЗАШУМЛЕННЫЕ ДАННЫЕ:\n",
            "------------------------------\n",
            "Объясненная дисперсия: 1.0000\n",
            "Собственные значения (топ-5): [881.6724, 411.4854, 0.0559]\n",
            "\n",
            "Проекция данных:\n",
            "-3.617134508507514 5.261025576813478\n",
            "28.822225458466782 -28.40400246668711\n",
            "-7.655170748104519 14.766193735744077\n",
            "-27.9243534937507 -31.28205920387168\n",
            "19.15994414160612 -0.7873203251260144\n",
            "43.41425507689517 0.655762420112346\n",
            "12.763594132976063 3.0452919245730765\n",
            "0.0714855439091755 -25.63789337155282\n",
            "32.38740958214272 -15.708557887553287\n",
            "-10.27924734250496 10.453621288814182\n",
            "-8.029168448480622 19.043053769952756\n",
            "23.448430986307564 28.072960746298065\n",
            "37.883323695507386 0.68122348576353\n",
            "-25.058906242246675 -6.559684730688253\n",
            "9.447618060131031 -0.03897279812209975\n",
            "4.014926862427235 3.5200948475061877\n",
            "-12.410866849766055 -15.716847093604091\n",
            "61.08995524960735 -52.934998532607594\n",
            "-6.919543084930893 6.703732399715644\n",
            "9.063676344783804 9.033699606758105\n",
            "-33.15631980130117 1.4765468872406293\n",
            "-20.67236209356119 -40.45124695726086\n",
            "-16.38402240107291 17.738742526286856\n",
            "-46.51383910730002 10.95515531093639\n",
            "-22.45984971066473 3.4988989268649675\n",
            "36.46077973371016 5.112840930790632\n",
            "9.49122838703979 0.1925958698596233\n",
            "-22.305088488429966 17.89762854229482\n",
            "36.028055210916776 18.453207385673103\n",
            "53.79566993610603 -10.792323457071074\n",
            "20.046147615224875 17.37422838620202\n",
            "25.398885875685735 13.837679923515763\n",
            "-40.92795160080601 28.538471223056725\n",
            "8.59588080889569 17.417906096661795\n",
            "-2.65147578104093 13.63310707331466\n",
            "28.4949071986679 11.18226850921673\n",
            "19.043326909229247 -10.817465809513351\n",
            "-28.220899968880897 -7.331211443265685\n",
            "-7.522339206652181 0.9368569970508149\n",
            "-39.15221433224762 28.532598720161204\n",
            "-38.17823039871466 -40.83777576675969\n",
            "-64.8979157654916 -48.9209861890254\n",
            "-53.59252429678826 13.286250926624962\n",
            "19.607696861010847 14.919701994923056\n",
            "\n",
            "РЕЗУЛЬТАТЫ СРАВНЕНИЯ:\n",
            "------------------------------\n",
            "MSE между исходными и зашумленными данными: 63.027903\n",
            "Разница в объясненной дисперсии: -0.000010\n",
            "Шум уменьшил объясненную дисперсию.\n",
            "==================================================\n"
          ]
        }
      ]
    }
  ]
}